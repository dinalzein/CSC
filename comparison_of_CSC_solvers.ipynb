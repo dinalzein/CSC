{
  "cells": [
    {
      "cell_type": "markdown",
      "source": [
        "##Comparison of state-of-the-art univariate and multivariate CSC methods"
      ],
      "metadata": {
        "id": "npBiPQ65JZqH"
      }
    },
    {
      "cell_type": "markdown",
      "source": [
        "In this notebook we compare the time for state of the art methods for uni-variate signal: (1) CBPDN, (2) Fista, (3) LBFGS, (4) LGCD; and for multivariate signal: (1) LGCD with full rank, (2) LGCD with rank-1 constarint, (3) CBPDN to converge with different values of the regularization parameter, $\\lambda$.\n",
        "Most of the code in this notebook is taken from [alphacsc library ](https://github.com/alphacsc/alphacsc) which is relatd to [1] \\\\\n",
        "\n",
        "The CSC problem is convex in each variable alone but not jointly conve. Thus the solution depends on the initialization. For this, we will run the algorithms with different initializations. \\\\\n",
        "\n",
        "\n",
        "[1]\n",
        "Dupré La Tour, T., Moreau, T., Jas, M., & Gramfort, A. (2018). Multivariate Convolutional Sparse Coding for Electromagnetic Brain Signals. Advances in Neural Information Processing Systems (NIPS).\n",
        "\n",
        " "
      ],
      "metadata": {
        "id": "IcNT782mKAlD"
      }
    },
    {
      "cell_type": "markdown",
      "source": [
        "**Univariate CSC Formulation**"
      ],
      "metadata": {
        "id": "Ut1y7LGZV7H6"
      }
    },
    {
      "cell_type": "markdown",
      "source": [
        "For a univarite signal $\\mathbf{\\{x^{n}\\}_{n=1}^{N}}\\subset\\mathbb{R}^T$ with $N$ observed signals, the convolutional sparse coding task amounts to solve the following optimization problem:\n",
        "\n",
        "$$\n",
        "\\min_{\\{\\mathbf{d}_k\\}_k, \\{\\mathbf{z}_k ^{n}\\}_{k,n} \\\\ \\lVert\\mathbf{d}_k\\rVert^2\\leq 1} \\sum_{n=1}^{N}\\frac{1}{2}\\quad\\left\\lVert \\mathbf{x^{n}} - \\sum_{k=1}^K \\mathbf{z}_{k}^{n} * \\mathbf{d}_k \\right\\rVert_{2}^{2} \\quad + \\quad\\lambda \\sum_{k=1}^K \\lVert\\mathbf{z}_{k}^{n}\\rVert_1\n",
        "$$\n",
        "\n",
        "where $\\mathbf\\{{d}\\}_{k=1}^{K}\\subset\\mathbb{R}^L$ are the $K$ temporal atoms (patterns) that we aim to learn, and $\\mathbf\\{{z_{k}^{n}}\\}_{k=1}^{K}\\in\\mathbb{R}^{N-L+1}$ are $K$ activations signals, and $\\lambda>0$ is the sparsity constraint. \n"
      ],
      "metadata": {
        "id": "kijIj6-BV_4v"
      }
    },
    {
      "cell_type": "markdown",
      "source": [
        "**Multivariate CSC Formulation**"
      ],
      "metadata": {
        "id": "XdY4TkzGWEFE"
      }
    },
    {
      "cell_type": "markdown",
      "source": [
        "For multivariate signals $\\mathbf{\\{X^{n}\\}_{n=1}^{N}}\\subset\\mathbb{R}^{P \\times T}$ with $N$ observed multivariate recorded over $P$ channels, the convolutional sparse coding task amounts to solve the following optimization problem:\n",
        "\n",
        "$$\n",
        "\\min_{\\{\\mathbf{D}_k\\}_k, \\{\\mathbf{z}_k ^{n}\\}_{k,n} \\\\ \\lVert\\mathbf{D}_k\\rVert_{2}^{2}\\leq 1, z_{k}^{n} \\geq 0} \\sum_{n=1}^{N}\\frac{1}{2}\\quad\\left\\lVert \\mathbf{X^{n}} - \\sum_{k=1}^K \\mathbf{z}_{k}^{n} * \\mathbf{D}_k \\right\\rVert_{2}^{2} \\quad + \\quad\\lambda \\sum_{k=1}^K \\lVert\\mathbf{z}_{k}^{n}\\rVert_1\n",
        "$$\n",
        "\n",
        "where $\\mathbf\\{{D}\\}_{k=1}^{K}\\subset\\mathbb{R}^{P \\times L}$ are the $K$ spatio-temporal atoms (patterns) that we aim to learn, and $\\mathbf\\{{z_{k}^{n}}\\}_{k=1}^{K}\\in\\mathbb{R}^{N-L+1}$ are the sparese activations associated with $X^{n}$, and $\\lambda>0$ is the sparsity constraint. \n",
        "\n"
      ],
      "metadata": {
        "id": "prN3kcGuWIDa"
      }
    },
    {
      "cell_type": "markdown",
      "source": [
        "**MultiVariate CSC with rank-1 constraint**\n",
        "\n",
        "\n"
      ],
      "metadata": {
        "id": "N2cVT7DAWYiR"
      }
    },
    {
      "cell_type": "markdown",
      "source": [
        "The model is exactly the same as the multivariate case but with rank-1 constraint on the dictonary $D_{k} = u_{k} v_{k}^{T} \\in \\mathbb{R} ^{P \\times L}$ with $u_{k} \\in \\mathbb{R}^{P}$ the pattern over the channels and $v_{k}$ the pattern over time. The optimization problem becomes as follows: \n",
        "\n",
        "$$\n",
        "\\min_{\\{\\mathbf{u}_k\\}_k, \\{\\mathbf{v}_k\\}_k, \\{\\mathbf{z}_k ^{n}\\}_{k,n} \\\\ \\lVert\\mathbf{u}_k\\rVert_{2}^{2}\\leq 1, \\lVert\\mathbf{v}_k\\rVert_{2}^{2}\\leq 1 \\\\ z_{k}^{n} \\geq 0} \\sum_{n=1}^{N}\\frac{1}{2}\\quad\\left\\lVert \\mathbf{X^{n}} - \\sum_{k=1}^K \\mathbf{z}_{k}^{n} * (\\mathbf{u}_k  \\mathbf{v}^{T}_k)\\right\\rVert_{2}^{2} \\quad + \\quad\\lambda \\sum_{k=1}^K \\lVert\\mathbf{z}_{k}^{n}\\rVert_1\n",
        "$$\n"
      ],
      "metadata": {
        "id": "5XX59fLYWYsk"
      }
    },
    {
      "cell_type": "markdown",
      "source": [
        "## Setup\n"
      ],
      "metadata": {
        "id": "dYO38Dyr7ozm"
      }
    },
    {
      "cell_type": "markdown",
      "source": [
        "**Mount the code on google drive**, skip this step, or modify Folder_name with an existing folder you wish to mount this work to"
      ],
      "metadata": {
        "id": "MqRr36WgJVd9"
      }
    },
    {
      "cell_type": "code",
      "source": [
        "from google.colab import drive\n",
        "drive.mount('/content/drive', force_remount= True)\n",
        "Folder_name = 'MVA_TS/'\n",
        "assert Folder_name is not None, \"[1] Enter the folder name\"\n",
        "\n",
        "import sys \n",
        "sys.path.append('content/drive/MyDrive/{}'.format(Folder_name))\n",
        "%cd drive/MyDrive/$Folder_name/\n"
      ],
      "metadata": {
        "colab": {
          "base_uri": "https://localhost:8080/"
        },
        "id": "DFln01slK-p_",
        "outputId": "ad6d2966-f9d0-46dd-b560-131be9022562"
      },
      "execution_count": null,
      "outputs": [
        {
          "output_type": "stream",
          "name": "stdout",
          "text": [
            "Mounted at /content/drive\n",
            "/content/drive/MyDrive/MVA_TS\n"
          ]
        }
      ]
    },
    {
      "cell_type": "markdown",
      "source": [
        "**Run on GPU**"
      ],
      "metadata": {
        "id": "1qa6CCqfXpYq"
      }
    },
    {
      "cell_type": "code",
      "source": [
        "import torch\n",
        "if torch.cuda.is_available():\n",
        "    loadmap = {'cuda:0': 'gpu'}\n",
        "else:\n",
        "    loadmap = {'cuda:0': 'cpu'}"
      ],
      "metadata": {
        "id": "RE0mEH8UXrty"
      },
      "execution_count": null,
      "outputs": []
    },
    {
      "cell_type": "markdown",
      "source": [
        "**Clone the alphacsc repo**"
      ],
      "metadata": {
        "id": "PpJ0i5D8LK8D"
      }
    },
    {
      "cell_type": "code",
      "source": [
        "!git clone https://github.com/alphacsc/alphacsc.git\n"
      ],
      "metadata": {
        "colab": {
          "base_uri": "https://localhost:8080/"
        },
        "id": "ZR_g4OPXNJHu",
        "outputId": "27b1f880-fcfc-4e3a-a4d3-4b727a21d798"
      },
      "execution_count": null,
      "outputs": [
        {
          "output_type": "stream",
          "name": "stdout",
          "text": [
            "Cloning into 'alphacsc'...\n",
            "remote: Enumerating objects: 4255, done.\u001b[K\n",
            "remote: Counting objects: 100% (321/321), done.\u001b[K\n",
            "remote: Compressing objects: 100% (213/213), done.\u001b[K\n",
            "remote: Total 4255 (delta 153), reused 189 (delta 90), pack-reused 3934\u001b[K\n",
            "Receiving objects: 100% (4255/4255), 12.62 MiB | 20.39 MiB/s, done.\n",
            "Resolving deltas: 100% (2980/2980), done.\n"
          ]
        }
      ]
    },
    {
      "cell_type": "markdown",
      "source": [
        "**Install**"
      ],
      "metadata": {
        "id": "X9TN8lnSJtzw"
      }
    },
    {
      "cell_type": "code",
      "source": [
        "%matplotlib inline\n",
        "!pip install git+https://github.com/alphacsc/alphacsc.git"
      ],
      "metadata": {
        "colab": {
          "base_uri": "https://localhost:8080/"
        },
        "id": "nsuKClZ57y-C",
        "outputId": "d0b234e7-e465-412d-a42b-e294a954e7d4"
      },
      "execution_count": null,
      "outputs": [
        {
          "output_type": "stream",
          "name": "stdout",
          "text": [
            "Collecting git+https://github.com/alphacsc/alphacsc.git\n",
            "  Cloning https://github.com/alphacsc/alphacsc.git to /tmp/pip-req-build-7szbx5js\n",
            "  Running command git clone -q https://github.com/alphacsc/alphacsc.git /tmp/pip-req-build-7szbx5js\n",
            "  Installing build dependencies ... \u001b[?25l\u001b[?25hdone\n",
            "  Getting requirements to build wheel ... \u001b[?25l\u001b[?25hdone\n",
            "    Preparing wheel metadata ... \u001b[?25l\u001b[?25hdone\n",
            "Collecting mne\n",
            "  Downloading mne-1.0.0-py3-none-any.whl (7.5 MB)\n",
            "\u001b[K     |████████████████████████████████| 7.5 MB 15.7 MB/s \n",
            "\u001b[?25hRequirement already satisfied: numba in /usr/local/lib/python3.7/dist-packages (from alphacsc==0.4.0rc1.dev10+g9a9a28d) (0.51.2)\n",
            "Requirement already satisfied: matplotlib in /usr/local/lib/python3.7/dist-packages (from alphacsc==0.4.0rc1.dev10+g9a9a28d) (3.2.2)\n",
            "Requirement already satisfied: scipy in /usr/local/lib/python3.7/dist-packages (from alphacsc==0.4.0rc1.dev10+g9a9a28d) (1.4.1)\n",
            "Requirement already satisfied: scikit-learn in /usr/local/lib/python3.7/dist-packages (from alphacsc==0.4.0rc1.dev10+g9a9a28d) (1.0.2)\n",
            "Requirement already satisfied: numpy in /usr/local/lib/python3.7/dist-packages (from alphacsc==0.4.0rc1.dev10+g9a9a28d) (1.21.5)\n",
            "Requirement already satisfied: joblib in /usr/local/lib/python3.7/dist-packages (from alphacsc==0.4.0rc1.dev10+g9a9a28d) (1.1.0)\n",
            "Requirement already satisfied: cycler>=0.10 in /usr/local/lib/python3.7/dist-packages (from matplotlib->alphacsc==0.4.0rc1.dev10+g9a9a28d) (0.11.0)\n",
            "Requirement already satisfied: pyparsing!=2.0.4,!=2.1.2,!=2.1.6,>=2.0.1 in /usr/local/lib/python3.7/dist-packages (from matplotlib->alphacsc==0.4.0rc1.dev10+g9a9a28d) (3.0.7)\n",
            "Requirement already satisfied: python-dateutil>=2.1 in /usr/local/lib/python3.7/dist-packages (from matplotlib->alphacsc==0.4.0rc1.dev10+g9a9a28d) (2.8.2)\n",
            "Requirement already satisfied: kiwisolver>=1.0.1 in /usr/local/lib/python3.7/dist-packages (from matplotlib->alphacsc==0.4.0rc1.dev10+g9a9a28d) (1.4.0)\n",
            "Requirement already satisfied: typing-extensions in /usr/local/lib/python3.7/dist-packages (from kiwisolver>=1.0.1->matplotlib->alphacsc==0.4.0rc1.dev10+g9a9a28d) (3.10.0.2)\n",
            "Requirement already satisfied: six>=1.5 in /usr/local/lib/python3.7/dist-packages (from python-dateutil>=2.1->matplotlib->alphacsc==0.4.0rc1.dev10+g9a9a28d) (1.15.0)\n",
            "Requirement already satisfied: packaging in /usr/local/lib/python3.7/dist-packages (from mne->alphacsc==0.4.0rc1.dev10+g9a9a28d) (21.3)\n",
            "Requirement already satisfied: decorator in /usr/local/lib/python3.7/dist-packages (from mne->alphacsc==0.4.0rc1.dev10+g9a9a28d) (4.4.2)\n",
            "Requirement already satisfied: tqdm in /usr/local/lib/python3.7/dist-packages (from mne->alphacsc==0.4.0rc1.dev10+g9a9a28d) (4.63.0)\n",
            "Requirement already satisfied: jinja2 in /usr/local/lib/python3.7/dist-packages (from mne->alphacsc==0.4.0rc1.dev10+g9a9a28d) (2.11.3)\n",
            "Requirement already satisfied: pooch>=1.5 in /usr/local/lib/python3.7/dist-packages (from mne->alphacsc==0.4.0rc1.dev10+g9a9a28d) (1.6.0)\n",
            "Requirement already satisfied: requests>=2.19.0 in /usr/local/lib/python3.7/dist-packages (from pooch>=1.5->mne->alphacsc==0.4.0rc1.dev10+g9a9a28d) (2.23.0)\n",
            "Requirement already satisfied: appdirs>=1.3.0 in /usr/local/lib/python3.7/dist-packages (from pooch>=1.5->mne->alphacsc==0.4.0rc1.dev10+g9a9a28d) (1.4.4)\n",
            "Requirement already satisfied: idna<3,>=2.5 in /usr/local/lib/python3.7/dist-packages (from requests>=2.19.0->pooch>=1.5->mne->alphacsc==0.4.0rc1.dev10+g9a9a28d) (2.10)\n",
            "Requirement already satisfied: chardet<4,>=3.0.2 in /usr/local/lib/python3.7/dist-packages (from requests>=2.19.0->pooch>=1.5->mne->alphacsc==0.4.0rc1.dev10+g9a9a28d) (3.0.4)\n",
            "Requirement already satisfied: urllib3!=1.25.0,!=1.25.1,<1.26,>=1.21.1 in /usr/local/lib/python3.7/dist-packages (from requests>=2.19.0->pooch>=1.5->mne->alphacsc==0.4.0rc1.dev10+g9a9a28d) (1.24.3)\n",
            "Requirement already satisfied: certifi>=2017.4.17 in /usr/local/lib/python3.7/dist-packages (from requests>=2.19.0->pooch>=1.5->mne->alphacsc==0.4.0rc1.dev10+g9a9a28d) (2021.10.8)\n",
            "Requirement already satisfied: MarkupSafe>=0.23 in /usr/local/lib/python3.7/dist-packages (from jinja2->mne->alphacsc==0.4.0rc1.dev10+g9a9a28d) (2.0.1)\n",
            "Requirement already satisfied: llvmlite<0.35,>=0.34.0.dev0 in /usr/local/lib/python3.7/dist-packages (from numba->alphacsc==0.4.0rc1.dev10+g9a9a28d) (0.34.0)\n",
            "Requirement already satisfied: setuptools in /usr/local/lib/python3.7/dist-packages (from numba->alphacsc==0.4.0rc1.dev10+g9a9a28d) (57.4.0)\n",
            "Requirement already satisfied: threadpoolctl>=2.0.0 in /usr/local/lib/python3.7/dist-packages (from scikit-learn->alphacsc==0.4.0rc1.dev10+g9a9a28d) (3.1.0)\n",
            "Building wheels for collected packages: alphacsc\n",
            "  Building wheel for alphacsc (PEP 517) ... \u001b[?25l\u001b[?25hdone\n",
            "  Created wheel for alphacsc: filename=alphacsc-0.4.0rc1.dev10+g9a9a28d-py3-none-any.whl size=4522717 sha256=83adfe1900663b0939d8bb2f81563a6390f798575f958be03fdb43902a462302\n",
            "  Stored in directory: /tmp/pip-ephem-wheel-cache-clm2ntnm/wheels/f2/c8/79/1deb4d532b9fc61ffaace73a3d0f7b575e45ac3d91512f23a4\n",
            "Successfully built alphacsc\n",
            "Installing collected packages: mne, alphacsc\n",
            "Successfully installed alphacsc-0.4.0rc1.dev10+g9a9a28d mne-1.0.0\n"
          ]
        }
      ]
    },
    {
      "cell_type": "code",
      "source": [
        "!pip install pandas pyfftw\n",
        "!pip install alphacsc/alphacsc/other/sporco "
      ],
      "metadata": {
        "colab": {
          "base_uri": "https://localhost:8080/"
        },
        "id": "vkT1d7EkUQ8A",
        "outputId": "e821d15d-c7c4-4118-9727-eb114cefc4b7"
      },
      "execution_count": null,
      "outputs": [
        {
          "output_type": "stream",
          "name": "stdout",
          "text": [
            "Requirement already satisfied: pandas in /usr/local/lib/python3.7/dist-packages (1.3.5)\n",
            "Collecting pyfftw\n",
            "  Downloading pyFFTW-0.13.0-cp37-cp37m-manylinux_2_5_x86_64.manylinux1_x86_64.whl (1.7 MB)\n",
            "\u001b[K     |████████████████████████████████| 1.7 MB 21.6 MB/s \n",
            "\u001b[?25hRequirement already satisfied: python-dateutil>=2.7.3 in /usr/local/lib/python3.7/dist-packages (from pandas) (2.8.2)\n",
            "Requirement already satisfied: numpy>=1.17.3 in /usr/local/lib/python3.7/dist-packages (from pandas) (1.21.5)\n",
            "Requirement already satisfied: pytz>=2017.3 in /usr/local/lib/python3.7/dist-packages (from pandas) (2018.9)\n",
            "Requirement already satisfied: six>=1.5 in /usr/local/lib/python3.7/dist-packages (from python-dateutil>=2.7.3->pandas) (1.15.0)\n",
            "Installing collected packages: pyfftw\n",
            "Successfully installed pyfftw-0.13.0\n",
            "Processing ./alphacsc/alphacsc/other/sporco\n",
            "\u001b[33m  DEPRECATION: A future pip version will change local packages to be built in-place without first copying to a temporary directory. We recommend you use --use-feature=in-tree-build to test your packages with this new behavior before it becomes the default.\n",
            "   pip 21.3 will remove support for this functionality. You can find discussion regarding this at https://github.com/pypa/pip/issues/7555.\u001b[0m\n",
            "Requirement already satisfied: future in /usr/local/lib/python3.7/dist-packages (from sporco==0.1.9b1) (0.16.0)\n",
            "Requirement already satisfied: numpy in /usr/local/lib/python3.7/dist-packages (from sporco==0.1.9b1) (1.21.5)\n",
            "Requirement already satisfied: scipy in /usr/local/lib/python3.7/dist-packages (from sporco==0.1.9b1) (1.4.1)\n",
            "Requirement already satisfied: pyfftw in /usr/local/lib/python3.7/dist-packages (from sporco==0.1.9b1) (0.13.0)\n",
            "Requirement already satisfied: matplotlib in /usr/local/lib/python3.7/dist-packages (from sporco==0.1.9b1) (3.2.2)\n",
            "Requirement already satisfied: cycler>=0.10 in /usr/local/lib/python3.7/dist-packages (from matplotlib->sporco==0.1.9b1) (0.11.0)\n",
            "Requirement already satisfied: kiwisolver>=1.0.1 in /usr/local/lib/python3.7/dist-packages (from matplotlib->sporco==0.1.9b1) (1.4.0)\n",
            "Requirement already satisfied: pyparsing!=2.0.4,!=2.1.2,!=2.1.6,>=2.0.1 in /usr/local/lib/python3.7/dist-packages (from matplotlib->sporco==0.1.9b1) (3.0.7)\n",
            "Requirement already satisfied: python-dateutil>=2.1 in /usr/local/lib/python3.7/dist-packages (from matplotlib->sporco==0.1.9b1) (2.8.2)\n",
            "Requirement already satisfied: typing-extensions in /usr/local/lib/python3.7/dist-packages (from kiwisolver>=1.0.1->matplotlib->sporco==0.1.9b1) (3.10.0.2)\n",
            "Requirement already satisfied: six>=1.5 in /usr/local/lib/python3.7/dist-packages (from python-dateutil>=2.1->matplotlib->sporco==0.1.9b1) (1.15.0)\n",
            "Building wheels for collected packages: sporco\n",
            "  Building wheel for sporco (setup.py) ... \u001b[?25l\u001b[?25hdone\n",
            "  Created wheel for sporco: filename=sporco-0.1.9b1-py3-none-any.whl size=4337072 sha256=27ca2729369a9b31ef5fc5504d76c1783ec035a137c4dab3fad7782ba9578ea6\n",
            "  Stored in directory: /tmp/pip-ephem-wheel-cache-efcbdk5i/wheels/fa/41/02/cfdcddaeed4807723e97f930d6d51c43563e4ad7df42cf9506\n",
            "Successfully built sporco\n",
            "Installing collected packages: sporco\n",
            "Successfully installed sporco-0.1.9b1\n"
          ]
        }
      ]
    },
    {
      "cell_type": "markdown",
      "source": [
        "**Imports**"
      ],
      "metadata": {
        "id": "xmDSEvRPLti3"
      }
    },
    {
      "cell_type": "code",
      "source": [
        "from __future__ import print_function\n",
        "import os\n",
        "import time\n",
        "import itertools\n",
        "import numpy as np\n",
        "import pandas as pd\n",
        "import scipy.sparse as sp\n",
        "from joblib import Parallel, delayed\n",
        "import alphacsc.other.heide_csc as CSC\n",
        "from alphacsc.update_d import update_d_block\n",
        "from alphacsc.learn_d_z import learn_d_z\n",
        "from alphacsc.learn_d_z_multi import learn_d_z_multi\n",
        "from alphacsc.datasets.mne_data import load_data\n",
        "from alphacsc.init_dict import init_dictionary\n",
        "from alphacsc.utils.dictionary import get_uv\n",
        "from sporco.admm.cbpdndl import ConvBPDNDictLearn\n",
        "import matplotlib\n",
        "import matplotlib.pyplot as plt\n",
        "import itertools\n",
        "\n"
      ],
      "metadata": {
        "id": "oNgOStis72XJ",
        "colab": {
          "base_uri": "https://localhost:8080/"
        },
        "outputId": "05b4cd45-0685-43d4-8091-65bae2a6feb9"
      },
      "execution_count": null,
      "outputs": [
        {
          "output_type": "stream",
          "name": "stderr",
          "text": [
            "/usr/local/lib/python3.7/dist-packages/alphacsc/utils/compute_constants.py:29: NumbaPerformanceWarning: np.dot() is faster on contiguous arrays, called on (array(float64, 1d, A), array(float64, 1d, A))\n",
            "  uv[k, n_channels:])\n",
            "/usr/local/lib/python3.7/dist-packages/alphacsc/utils/compute_constants.py:32: NumbaPerformanceWarning: np.dot() is faster on contiguous arrays, called on (array(float64, 1d, A), array(float64, 1d, A))\n",
            "  uv[k, n_channels + t:])\n",
            "/usr/local/lib/python3.7/dist-packages/alphacsc/utils/compute_constants.py:34: NumbaPerformanceWarning: np.dot() is faster on contiguous arrays, called on (array(float64, 1d, A), array(float64, 1d, A))\n",
            "  uv[k, n_channels:-t])\n",
            "/usr/local/lib/python3.7/dist-packages/alphacsc/utils/compute_constants.py:35: NumbaPerformanceWarning: np.dot() is faster on contiguous arrays, called on (array(float64, 2d, A), array(float64, 2d, A))\n",
            "  DtD *= np.dot(u, u.T).reshape(n_atoms, n_atoms, 1)\n"
          ]
        }
      ]
    },
    {
      "cell_type": "markdown",
      "source": [
        "## Univariate CSC Algorithms"
      ],
      "metadata": {
        "id": "CsrwFZyjMBmp"
      }
    },
    {
      "cell_type": "markdown",
      "source": [
        "**[Admm Algorithm](https://ieeexplore.ieee.org/abstract/document/8364626?casa_token=6-H-y9v21-IAAAAA:7kUfLu0g_2UoQY3GqekziSt7XYKuQ9dz4CvvFGMwCnm_SchnF8aI4f4G0SvcOs-irNqhQoO5Dmkcaw)**"
      ],
      "metadata": {
        "id": "EohW6NLHMFyi"
      }
    },
    {
      "cell_type": "code",
      "source": [
        "\n",
        "def run_admm(X, ds_init, reg, n_iter, random_state, label, max_it_d=10,\n",
        "             max_it_z=10):\n",
        "    # admm with the following differences\n",
        "    # - positivity constraints\n",
        "    # - different init\n",
        "    # - d step and z step are swapped\n",
        "    tol = np.float64(1e-3)\n",
        "    size_kernel = ds_init.shape\n",
        "    assert size_kernel[1] % 2 == 1\n",
        "    [d, z, Dz, list_obj_val, times_admm] = CSC.learn_conv_sparse_coder(\n",
        "        X, size_kernel, max_it=n_iter, tol=tol, random_state=random_state,\n",
        "        lambda_prior=reg, ds_init=ds_init, verbose=verbose, max_it_d=max_it_d,\n",
        "        max_it_z=max_it_z)\n",
        "\n",
        "    # z.shape = (n_trials, n_atoms, n_times + 2 * n_times_atom)\n",
        "    z = z[:, :, 2 * n_times_atom:-2 * n_times_atom]\n",
        "    z = z.swapaxes(0, 1)\n",
        "    # z.shape = (n_atoms, n_trials, n_times - 2 * n_times_atom)\n",
        "\n",
        "    return list_obj_val, np.cumsum(times_admm)[::2], d, z\n"
      ],
      "metadata": {
        "id": "1pfKRQj3MVzF"
      },
      "execution_count": null,
      "outputs": []
    },
    {
      "cell_type": "markdown",
      "source": [
        "**[Fista Algorithm](https://proceedings.neurips.cc/paper/2017/hash/6f2268bd1d3d3ebaabb04d6b5d099425-Abstract.html)**"
      ],
      "metadata": {
        "id": "fkq-RRMKONBJ"
      }
    },
    {
      "cell_type": "code",
      "source": [
        "def run_fista(X, ds_init, reg, n_iter, random_state, label):\n",
        "    assert X.ndim == 2\n",
        "    n_atoms, n_times_atom = ds_init.shape\n",
        "    pobj, times, d_hat, z_hat, reg = learn_d_z(X, n_atoms, n_times_atom, func_d=update_d_block, reg=reg, \n",
        "                    n_iter=n_iter, random_state=random_state, n_jobs=1, solver_z='fista', solver_z_kwargs=dict(max_iter=2), \n",
        "                    ds_init=ds_init, verbose=verbose)\n",
        "    \n",
        "\n",
        "    return pobj[::2], np.cumsum(times)[::2], d_hat, z_hat\n",
        "\n"
      ],
      "metadata": {
        "id": "tpwa2o6UOntP"
      },
      "execution_count": null,
      "outputs": []
    },
    {
      "cell_type": "markdown",
      "source": [
        "**[LBFGS Algorithm](https://proceedings.neurips.cc/paper/2017/hash/6f2268bd1d3d3ebaabb04d6b5d099425-Abstract.html)**"
      ],
      "metadata": {
        "id": "1Uqd3njuOp7G"
      }
    },
    {
      "cell_type": "code",
      "source": [
        "def run_l_bfgs(X, ds_init, reg, n_iter, random_state, label, factr_d=1e7,\n",
        "               factr_z=1e14):\n",
        "    assert X.ndim == 2\n",
        "    n_atoms, n_times_atom = ds_init.shape\n",
        "    pobj, times, d_hat, z_hat, reg = learn_d_z(\n",
        "        X, n_atoms, n_times_atom,\n",
        "        func_d=update_d_block, solver_z='l-bfgs', solver_z_kwargs=dict(\n",
        "            factr=factr_z), reg=reg, n_iter=n_iter, solver_d_kwargs=dict(\n",
        "                factr=factr_d), random_state=random_state, ds_init=ds_init,\n",
        "        n_jobs=1, verbose=verbose)\n",
        "    \n",
        "\n",
        "    return pobj[::2], np.cumsum(times)[::2], d_hat, z_hat\n"
      ],
      "metadata": {
        "id": "AWg_L8KEOqHt"
      },
      "execution_count": null,
      "outputs": []
    },
    {
      "cell_type": "markdown",
      "source": [
        "**[CBPDN Algorithm](https://ieeexplore.ieee.org/abstract/document/8364626?casa_token=6-H-y9v21-IAAAAA:7kUfLu0g_2UoQY3GqekziSt7XYKuQ9dz4CvvFGMwCnm_SchnF8aI4f4G0SvcOs-irNqhQoO5Dmkcaw)**, used for both univariate and multivariate signals"
      ],
      "metadata": {
        "id": "SLZgwA-Srvj9"
      }
    },
    {
      "cell_type": "code",
      "source": [
        "\n",
        "def run_cbpdn(X, ds_init, reg, n_iter, random_state, label):\n",
        "    # Use only one thread in fft for fair comparison\n",
        "    import sporco.linalg\n",
        "    sporco.linalg.pyfftw_threads = 1\n",
        "\n",
        "    if X.ndim == 2:  # univariate CSC\n",
        "        ds_init = np.swapaxes(ds_init, 0, 1)[:, None, :]\n",
        "        X = np.swapaxes(X, 0, 1)[:, None, :]\n",
        "        single_channel = True\n",
        "    else:  # multivariate CSC\n",
        "        ds_init = np.swapaxes(ds_init, 0, 2)\n",
        "        X = np.swapaxes(X, 0, 2)\n",
        "        single_channel = False\n",
        "\n",
        "    options = {\n",
        "        'Verbose': verbose > 0,\n",
        "        'StatusHeader': False,\n",
        "        'MaxMainIter': n_iter,\n",
        "        'CBPDN': dict(NonNegCoef=True),\n",
        "        'CCMOD': dict(ZeroMean=False),\n",
        "        'DictSize': ds_init.shape,\n",
        "    }\n",
        "\n",
        "    # wolberg / convolutional basis pursuit\n",
        "    opt = ConvBPDNDictLearn.Options(options)\n",
        "    cbpdn = ConvBPDNDictLearn(ds_init, X, reg, opt, dimN=1)\n",
        "    results = cbpdn.solve()\n",
        "    times = np.cumsum(cbpdn.getitstat().Time)\n",
        "\n",
        "    d_hat, pobj = results\n",
        "    if single_channel:  # univariate CSC\n",
        "        d_hat = d_hat.squeeze().T\n",
        "        n_atoms, n_times_atom = d_hat.shape\n",
        "    else:\n",
        "        d_hat = d_hat.squeeze().swapaxes(0, 2)\n",
        "        n_atoms, n_channels, n_times_atom = d_hat.shape\n",
        "\n",
        "    z_hat = cbpdn.getcoef().squeeze().swapaxes(0, 2)\n",
        "    times = np.concatenate([[0], times])\n",
        "\n",
        "    # z_hat.shape = (n_atoms, n_trials, n_times)\n",
        "    z_hat = z_hat[:, :, :-n_times_atom + 1]\n",
        "    # z_hat.shape = (n_atoms, n_trials, n_times_valid)\n",
        "\n",
        "    return pobj, times, d_hat, z_hat"
      ],
      "metadata": {
        "id": "kN7SecG7rvve"
      },
      "execution_count": null,
      "outputs": []
    },
    {
      "cell_type": "markdown",
      "source": [
        "##Multivariate CSC Algorithms"
      ],
      "metadata": {
        "id": "OL6xeXZzQBfF"
      }
    },
    {
      "cell_type": "markdown",
      "source": [
        "**[LGCD](https://proceedings.neurips.cc/paper/2018/hash/64f1f27bf1b4ec22924fd0acb550c235-Abstract.html)** with rank_1"
      ],
      "metadata": {
        "id": "z3c4n2HzQEV8"
      }
    },
    {
      "cell_type": "code",
      "source": [
        "def run_multichannel_gcd(X, ds_init, reg, n_iter, random_state, label):\n",
        "    if X.ndim == 2:\n",
        "        n_atoms, n_times_atom = ds_init.shape\n",
        "        ds_init = np.c_[np.ones((n_atoms, 1)), ds_init]\n",
        "        X = X[:, None, :]\n",
        "    else:\n",
        "        n_atoms, n_channels, n_times_atom = ds_init.shape\n",
        "        ds_init = get_uv(ds_init)  # project init to rank 1\n",
        "\n",
        "    solver_z_kwargs = dict(max_iter=2, tol=1e-3)\n",
        "    pobj, times, d_hat, z_hat, reg = learn_d_z_multi(\n",
        "        X, n_atoms, n_times_atom, solver_d='alternate_adaptive',\n",
        "        solver_z=\"lgcd\", uv_constraint='separate', eps=-np.inf,\n",
        "        solver_z_kwargs=solver_z_kwargs, reg=reg, solver_d_kwargs=dict(\n",
        "            max_iter=100), n_iter=n_iter, random_state=random_state,\n",
        "        raise_on_increase=False, D_init=ds_init, n_jobs=1, verbose=verbose)\n",
        "\n",
        "    # remove the ds init duration\n",
        "    times[0] = 0\n",
        "\n",
        "    return pobj[::2], np.cumsum(times)[::2], d_hat, z_hat"
      ],
      "metadata": {
        "id": "9A_Ey8d_QYfR"
      },
      "execution_count": null,
      "outputs": []
    },
    {
      "cell_type": "markdown",
      "source": [
        "**[LGCD](https://proceedings.neurips.cc/paper/2018/hash/64f1f27bf1b4ec22924fd0acb550c235-Abstract.html)** with full rank"
      ],
      "metadata": {
        "id": "QVrRX9qJQgJp"
      }
    },
    {
      "cell_type": "code",
      "source": [
        "\n",
        "def run_multichannel_gcd_fullrank(X, ds_init, reg, n_iter, random_state,\n",
        "                                  label):\n",
        "    assert X.ndim == 3\n",
        "    n_atoms, n_channels, n_times_atom = ds_init.shape\n",
        "\n",
        "    solver_z_kwargs = dict(max_iter=2, tol=1e-3)\n",
        "    pobj, times, d_hat, z_hat, reg = learn_d_z_multi(\n",
        "        X, n_atoms, n_times_atom, solver_d='fista', solver_z=\"lgcd\",\n",
        "        uv_constraint='auto', eps=-np.inf, solver_z_kwargs=solver_z_kwargs,\n",
        "        reg=reg, solver_d_kwargs=dict(max_iter=100), n_iter=n_iter,\n",
        "        random_state=random_state, raise_on_increase=False, D_init=ds_init,\n",
        "        n_jobs=1, verbose=verbose, rank1=False)\n",
        "\n",
        "    # remove the ds init duration\n",
        "    times[0] = 0\n",
        "\n",
        "    return pobj[::2], np.cumsum(times)[::2], d_hat, z_hat\n",
        "\n"
      ],
      "metadata": {
        "id": "uWDWmLYjQiEt"
      },
      "execution_count": null,
      "outputs": []
    },
    {
      "cell_type": "markdown",
      "source": [
        "##Utility Functions"
      ],
      "metadata": {
        "id": "9Gk213sORQq0"
      }
    },
    {
      "cell_type": "code",
      "source": [
        "BLACK, RED, GREEN, YELLOW, BLUE, MAGENTA, CYAN, WHITE = range(30, 38)\n",
        "def colorify(message, color=BLUE):\n",
        "    \"\"\"Change color of the standard output\"\"\"\n",
        "    return (\"\\033[1;%dm\" % color) + message + \"\\033[0m\"\n"
      ],
      "metadata": {
        "id": "zaPc5RvLRQMb"
      },
      "execution_count": null,
      "outputs": []
    },
    {
      "cell_type": "markdown",
      "source": [
        "**List of functions used in the benchmark**\n"
      ],
      "metadata": {
        "id": "_jV5JCFdSUWe"
      }
    },
    {
      "cell_type": "code",
      "source": [
        "n_iter = 100\n",
        "methods_univariate = [\n",
        "    [run_cbpdn, 'Garcia-Cardona et al (2017)', n_iter * 2],\n",
        "    [run_fista, 'Jas et al (2017) FISTA', n_iter],\n",
        "    [run_l_bfgs, 'Jas et al (2017) LBFGS', n_iter],\n",
        "    [run_multichannel_gcd, 'Proposed (univariate)', n_iter],\n",
        "]\n",
        "\n",
        "n_iter_multi = 20\n",
        "methods_multivariate = [\n",
        "    [run_cbpdn, 'Wohlberg (2016)', n_iter_multi * 2],\n",
        "    [run_multichannel_gcd_fullrank, 'Proposed (multivariate)', n_iter_multi],\n",
        "    [run_multichannel_gcd, 'Proposed (multichannel)', n_iter_multi],\n",
        "]"
      ],
      "metadata": {
        "id": "zwrbL5olSUjn"
      },
      "execution_count": null,
      "outputs": []
    },
    {
      "cell_type": "markdown",
      "source": [
        "**Helper method to call CSC function**"
      ],
      "metadata": {
        "id": "-TKNelgLRmnF"
      }
    },
    {
      "cell_type": "code",
      "source": [
        "def one_run(X, X_shape, random_state, method, n_atoms, n_times_atom, reg):\n",
        "    assert X.shape == X_shape\n",
        "    func, label, n_iter = method\n",
        "    current_time = time.time() - START\n",
        "    msg = ('%s - %s: started at T=%.0f sec' % (random_state, label,\n",
        "                                               current_time))\n",
        "    print(colorify(msg, BLUE))\n",
        "\n",
        "    if len(X_shape) == 2:\n",
        "        n_trials, n_times = X.shape\n",
        "        n_channels = 1\n",
        "        X_init = X[:, None, :]\n",
        "    else:\n",
        "        n_trials, n_channels, n_times = X.shape\n",
        "        X_init = X\n",
        "\n",
        "    # use the same init for all methods\n",
        "    ds_init = init_dictionary(X_init, n_atoms, n_times_atom, D_init='chunk',\n",
        "                              rank1=False, uv_constraint='separate',\n",
        "                              random_state=random_state)\n",
        "    if len(X_shape) == 2:\n",
        "        ds_init = ds_init[:, 0, :]\n",
        "\n",
        "    # run the selected algorithm with one iter to remove compilation overhead\n",
        "    _, _, _, _ = func(X, ds_init, reg, 1, random_state, label)\n",
        "\n",
        "    # run the selected algorithm\n",
        "    pobj, times, d_hat, z_hat = func(X, ds_init, reg, n_iter, random_state,\n",
        "                                     label)\n",
        "\n",
        "    # store z_hat in a sparse matrix to reduce size\n",
        "    for z in z_hat:\n",
        "        z[z < 1e-3] = 0\n",
        "    z_hat = [sp.csr_matrix(z) for z in z_hat]\n",
        "\n",
        "    duration = time.time() - START - current_time\n",
        "    current_time = time.time() - START\n",
        "    msg = ('%s - %s: done in %.0f sec at T=%.0f sec' %\n",
        "           (random_state, label, duration, current_time))\n",
        "    print(colorify(msg, GREEN))\n",
        "    return (random_state, label, np.asarray(pobj), np.asarray(times),\n",
        "            np.asarray(d_hat), np.asarray(z_hat), n_atoms, n_times_atom,\n",
        "            n_trials, n_times, n_channels, reg)\n",
        "\n"
      ],
      "metadata": {
        "id": "K_VlYjJXpJWk"
      },
      "execution_count": null,
      "outputs": []
    },
    {
      "cell_type": "markdown",
      "source": [
        "**Helper method to run experiments**\n",
        "\n"
      ],
      "metadata": {
        "id": "sh7s9uwTRtRT"
      }
    },
    {
      "cell_type": "code",
      "source": [
        "def run_exps(n_times_atom_list, n_atoms_list, n_channel_list, reg_list):\n",
        "\n",
        "\n",
        "  out_iterator = itertools.product(n_times_atom_list, n_atoms_list,\n",
        "                                     n_channel_list, reg_list)\n",
        "\n",
        "  for params in out_iterator:\n",
        "      n_times_atom, n_atoms, n_channels, reg = params\n",
        "      msg = 'n_times_atom, n_atoms, n_channels, reg = ' + str(params)\n",
        "      print(colorify(msg, RED))\n",
        "      print(colorify('-' * len(msg), RED))\n",
        "\n",
        "      save_name = base_name + str(params)\n",
        "      save_name = os.path.join('figures', save_name)\n",
        "\n",
        "      all_results = []\n",
        "\n",
        "      X, info = load_data(\n",
        "         dataset='sample', epoch=False, n_jobs=n_jobs\n",
        "      )\n",
        "\n",
        "      if n_channels == 1:\n",
        "         X = X[:, 0, :]  # take only one channel\n",
        "      elif n_channels is not None:\n",
        "         X = X[:, :n_channels, :]\n",
        "\n",
        "      assert X.shape[0] > 1  # we need at least two trials for sporco\n",
        "      X_shape = X.shape\n",
        "\n",
        "      if n_channels == 1:\n",
        "         methods = methods_univariate\n",
        "      else:\n",
        "         methods = methods_multivariate\n",
        "\n",
        "      iterator = itertools.product(methods, range(n_states))\n",
        "      if n_jobs == 1:\n",
        "       for method, random_state in iterator:  \n",
        "         results = [ one_run(X, X_shape, random_state, method, n_atoms, n_times_atom, reg)]\n",
        "      else:\n",
        "        # run the methods for different random_state\n",
        "         delayed_one_run = delayed(one_run)\n",
        "         results = Parallel(n_jobs=n_jobs)(delayed_one_run(\n",
        "            X, X_shape, random_state, method, n_atoms, n_times_atom,\n",
        "            reg) for method, random_state in iterator)\n",
        "\n",
        "      all_results.extend(results)\n",
        "\n",
        "      all_results_df = pd.DataFrame(\n",
        "        all_results, columns='random_state label pobj times d_hat '\n",
        "        'z_hat n_atoms n_times_atom n_trials n_times n_channels reg'.\n",
        "        split(' '))\n",
        "  \n",
        "      isExist = os.path.exists('figures')\n",
        "      if not isExist:\n",
        "        os.makedirs('figures')\n",
        "      all_results_df.to_pickle(save_name + '.pkl')\n",
        "\n",
        "  print('-- End of the script --')"
      ],
      "metadata": {
        "id": "gQjvINbNRtdM"
      },
      "execution_count": null,
      "outputs": []
    },
    {
      "cell_type": "markdown",
      "source": [
        "**To color the plots**"
      ],
      "metadata": {
        "id": "QvupmuLPsVgD"
      }
    },
    {
      "cell_type": "code",
      "source": [
        "def color_palette(n_colors=4, cmap='viridis', extrema=False):\n",
        "    \"\"\"Create a color palette from a matplotlib color map\"\"\"\n",
        "    if extrema:\n",
        "        bins = np.linspace(0, 1, n_colors)\n",
        "    else:\n",
        "        bins = np.linspace(0, 1, n_colors * 2 - 1 + 2)[1:-1:2]\n",
        "\n",
        "    cmap = plt.get_cmap(cmap)\n",
        "    palette = list(map(tuple, cmap(bins)[:, :3]))\n",
        "    return palette\n"
      ],
      "metadata": {
        "id": "XFA7khrtsZgu"
      },
      "execution_count": null,
      "outputs": []
    },
    {
      "cell_type": "markdown",
      "source": [
        "**To plot different algorithms**"
      ],
      "metadata": {
        "id": "eAdWioyWsbDz"
      }
    },
    {
      "cell_type": "code",
      "source": [
        "def normalize_pobj(pobj, best_pobj=None, normalize_method='best'):\n",
        "    \"\"\"Normalize the objective function\"\"\"\n",
        "    if normalize_method == 'best':\n",
        "        assert best_pobj is not None\n",
        "        pobj = (pobj - best_pobj) / best_pobj\n",
        "    elif normalize_method == 'last':\n",
        "        pobj = [(p - p.min()) / p.min() for p in pobj]\n",
        "        pobj = [p / p[0] if p[0] != 0 else p for p in pobj]\n",
        "    elif normalize_method == 'diff':\n",
        "        pobj = [-np.diff(p) for p in pobj]\n",
        "    elif normalize_method in [None, 'short']:\n",
        "        pass\n",
        "    else:\n",
        "        raise ValueError('unknown normalize_method: %s' % normalize_method)\n",
        "\n",
        "    return pobj\n"
      ],
      "metadata": {
        "id": "Iw6vT6AJsbMM"
      },
      "execution_count": null,
      "outputs": []
    },
    {
      "cell_type": "markdown",
      "source": [
        "**To plot the convergence curves**"
      ],
      "metadata": {
        "id": "pi7-kL9FssS_"
      }
    },
    {
      "cell_type": "code",
      "source": [
        "def plot_convergence(data_frame, threshold, normalize_method, save_name):\n",
        "    save_name += '_%s' % (normalize_method, )\n",
        "    for n_atoms in data_frame['n_atoms'].unique():\n",
        "\n",
        "        for n_times_atom in data_frame['n_times_atom'].unique():\n",
        "            this_res = data_frame\n",
        "            this_res = this_res[this_res['n_atoms'] == n_atoms]\n",
        "            this_res = this_res[this_res['n_times_atom'] == n_times_atom]\n",
        "            labels = this_res['label'].unique()\n",
        "\n",
        "            if this_res.size == 0:\n",
        "                continue\n",
        "\n",
        "            best_pobj = min([min(pobj) for pobj in this_res['pobj']])\n",
        "\n",
        "            # draw a different figure for each setting\n",
        "            fig = plt.figure(figsize=(6, 4))\n",
        "            ax = fig.gca()\n",
        "            plt.ticklabel_format(style='sci', axis='y', scilimits=(0, 0))\n",
        "            # ymin = np.inf\n",
        "            tmax = []\n",
        "            colors = color_palette(len(labels))\n",
        "            for label, color in zip(labels, colors):\n",
        "                if label == 'find_best_pobj':\n",
        "                    continue\n",
        "                # aggregate all runs (different random states)\n",
        "                this_res_2 = this_res[this_res['label'] == label]\n",
        "                times = this_res_2['times']\n",
        "                pobj = this_res_2['pobj']\n",
        "\n",
        "                pobj = normalize_pobj(pobj, best_pobj, normalize_method)\n",
        "\n",
        "                # geometric mean on the n_iter_min first iterations\n",
        "                n_iter_min = min([t.shape[0] for t in pobj])\n",
        "                pobj_stack = np.vstack([p[:n_iter_min] for p in pobj])\n",
        "                pobj_stack = np.log10(pobj_stack + 1e-15)\n",
        "                pobj_mean = 10 ** (np.mean(pobj_stack, axis=0))\n",
        "                times_mean = np.vstack([t[:n_iter_min] for t in times])\n",
        "                times_mean = times_mean.mean(axis=0)\n",
        "                if times_mean.size == 0:\n",
        "                    continue\n",
        "                tmax.append(times_mean[-1])\n",
        "\n",
        "                times_mean = times_mean[1:]\n",
        "                pobj_mean = pobj_mean[1:]\n",
        "\n",
        "                if normalize_method == 'last':\n",
        "                    last = np.where(pobj_mean <= threshold)[0]\n",
        "                    if last.size == 0:\n",
        "                        continue\n",
        "                    last = last[0]\n",
        "                    times_mean = times_mean[:last]\n",
        "                    pobj_mean = pobj_mean[:last]\n",
        "\n",
        "                style = '--' if 'Proposed' in label else '-'\n",
        "\n",
        "                # plot the mean\n",
        "                plt.plot(times_mean, pobj_mean, style, label=label,\n",
        "                         alpha=1., markevery=0.1, lw=2., color=color)\n",
        "\n",
        "                if normalize_method not in [None, 'short']:\n",
        "                    ax.set_xscale('log')\n",
        "                    ax.set_yscale('log')\n",
        "\n",
        "            plt.xlabel('Time (s)')\n",
        "            if normalize_method in [None, 'short']:\n",
        "                plt.ylabel('objective')\n",
        "                if normalize_method == 'short' and tmax != []:\n",
        "                    xmax = 10 ** np.mean(np.log10(tmax)) / 5\n",
        "                    plt.xlim(-xmax / 20, xmax)\n",
        "            elif normalize_method == 'diff':\n",
        "                plt.ylabel('diff(objective)')\n",
        "            elif normalize_method == 'last':\n",
        "                plt.ylabel('(objective_i - best_i) / (init - best_i)')\n",
        "            else:\n",
        "                plt.ylabel('(objective - best) / best')\n",
        "\n",
        "            # ---- Cleaner fig for the paper\n",
        "            # plt.legend(loc=0, ncol=1)\n",
        "            plt.ylabel('')\n",
        "\n",
        "            # plt.ylim(ymin=ymin / 10)\n",
        "            # plt.title('K = %d, L = %d' % (n_atoms, n_times_atom))\n",
        "            plt.gca().tick_params(axis='x', which='both', bottom='off',\n",
        "                                  top='off')\n",
        "            plt.gca().tick_params(axis='y', which='both', left='off',\n",
        "                                  right='off')\n",
        "            plt.grid(True)\n",
        "            plt.tight_layout()\n",
        "\n",
        "            try:\n",
        "                reg = min(this_res_2['reg'].unique())\n",
        "            except:\n",
        "                reg = None\n",
        "            this_save_name = (save_name + '_bench_K%d_L%d_r%s' %\n",
        "                              (n_atoms, n_times_atom, reg))\n",
        "\n",
        "            fig.savefig(this_save_name + '.png', dpi=150)"
      ],
      "metadata": {
        "id": "QJsBXy97ssex"
      },
      "execution_count": null,
      "outputs": []
    },
    {
      "cell_type": "markdown",
      "source": [
        "**Barplots** that shows the time that the algorithm take to converge with different values of the regulirzation parameter"
      ],
      "metadata": {
        "id": "444k2qpks3cb"
      }
    },
    {
      "cell_type": "code",
      "source": [
        "def plot_barplot(all_results_df, threshold, normalize_method, save_name):\n",
        "    all_results_df = all_results_df.sort_values(by=['reg'], kind='mergesort')\n",
        "\n",
        "    if normalize_method is None:\n",
        "        return None\n",
        "    save_name += '_%s_%s' % (normalize_method, threshold)\n",
        "    labels = all_results_df['label'].unique()\n",
        "    to_plot = []\n",
        "    iterator = itertools.product(\n",
        "        all_results_df['n_channels'].unique(),\n",
        "        all_results_df['n_atoms'].unique(),\n",
        "        all_results_df['n_times_atom'].unique(),\n",
        "        all_results_df['n_times'].unique(),\n",
        "        all_results_df['reg'].unique(),\n",
        "        labels, )\n",
        "    for n_channels, n_atoms, n_times_atom, n_times, reg, label in iterator:\n",
        "        setting = 'T_%d, P=%d, K=%d, L=%d' % (n_times, n_channels, n_atoms,\n",
        "                                              n_times_atom)\n",
        "        this_res = all_results_df\n",
        "        this_res = this_res[this_res['n_atoms'] == n_atoms]\n",
        "        this_res = this_res[this_res['n_times_atom'] == n_times_atom]\n",
        "        this_res = this_res[this_res['n_times'] == n_times]\n",
        "        this_res = this_res[this_res['n_channels'] == n_channels]\n",
        "        this_res = this_res[this_res['reg'] == reg]\n",
        "        this_res = this_res[this_res['label'] == label]\n",
        "\n",
        "        if this_res.size == 0:\n",
        "            continue\n",
        "\n",
        "        # aggregate all runs (different random states)\n",
        "        times = this_res['times']\n",
        "        pobj = this_res['pobj']\n",
        "\n",
        "        pobj = normalize_pobj(pobj, None, normalize_method)\n",
        "\n",
        "        # find first time instant where pobj go below threshold\n",
        "        first_time_list = []\n",
        "        for pobj_, times_ in zip(pobj, times):\n",
        "            idx = np.where(pobj_ < threshold)[0]\n",
        "            if idx.size != 0:\n",
        "                first_time_list.append(times_[idx[0]])\n",
        "        first_time_list = np.array(first_time_list)\n",
        "\n",
        "        mean = np.exp(np.mean(np.log(first_time_list)))\n",
        "        std = None\n",
        "        to_plot.append((reg, first_time_list, mean, std, label, setting))\n",
        "\n",
        "    to_plot_df = pd.DataFrame(to_plot, columns=[\n",
        "        'reg', 'first_time', 'mean', 'std', 'label', 'setting'\n",
        "    ])\n",
        "\n",
        "    settings = to_plot_df['setting'].unique()\n",
        "\n",
        "    for setting in settings:\n",
        "        this_to_plot_df = to_plot_df[to_plot_df['setting'] == setting]\n",
        "\n",
        "        labels = this_to_plot_df['label'].unique()\n",
        "        width = 1. / (labels.size + 2)  # the width of the bars\n",
        "        colors = color_palette(len(labels))\n",
        "\n",
        "        regs = this_to_plot_df['reg'].unique()\n",
        "        regs.sort()\n",
        "        x_positions = np.arange(regs.size)\n",
        "\n",
        "        fig = plt.figure(figsize=(11, 4))\n",
        "        ax = fig.gca()\n",
        "        rect_list = []\n",
        "        for i, label in enumerate(labels):\n",
        "            this_df = this_to_plot_df[this_to_plot_df['label'] == label]\n",
        "\n",
        "            hatch = '//' if 'Proposed' in label else ''\n",
        "\n",
        "            rect = ax.bar(x_positions + i * width,\n",
        "                          height=np.array(this_df['mean']), width=width,\n",
        "                          label=label, hatch=hatch, color=colors[i])\n",
        "            rect_list.append(rect)\n",
        "            # yerr=np.array(this_df['std']),\n",
        "\n",
        "            # color = rect[0].get_facecolor()\n",
        "            for j, first_time in enumerate(this_df['first_time']):\n",
        "                ax.plot(\n",
        "                    np.ones_like(first_time) * x_positions[j] + i * width,\n",
        "                    first_time, '_', color='k')\n",
        "\n",
        "        offset = (labels.size - 1) / 2.0 * width\n",
        "        ax.set_xticks(x_positions + offset)\n",
        "        ax.set_xticklabels([r'$\\lambda=%s$' % r for r in regs], ha='center')\n",
        "        ax.set_yscale(\"log\")\n",
        "\n",
        "        plt.ylabel('Time (s)')\n",
        "        plt.grid(True)\n",
        "        plt.title('Time to reach a relative precision of %s' % threshold)\n",
        "        plt.tight_layout()\n",
        "\n",
        "        # legend to the top\n",
        "        plt.legend()\n",
        "        labels = [text.get_text() for text in ax.get_legend().get_texts()]\n",
        "        if len(labels) > 3:\n",
        "            ncol = 2\n",
        "            top = 0.75\n",
        "        else:\n",
        "            ncol = 3\n",
        "            top = 0.85\n",
        "        fig.legend(rect_list, labels, loc='upper center', ncol=ncol,\n",
        "                   columnspacing=0.8)\n",
        "        ax.legend_.remove()\n",
        "        fig.subplots_adjust(top=top)\n",
        "\n",
        "\n",
        "        this_save_name = '%s_%s_%s' % (save_name, setting, normalize_method)\n",
        "        this_save_name = this_save_name.replace(' ', '_').replace('.', '')\n",
        "        this_save_name = this_save_name.replace(',', '').replace('=', '')\n",
        "        this_save_name = this_save_name.replace('(', '').replace(')', '')\n",
        "        fig.savefig(this_save_name + '.png')\n",
        "\n"
      ],
      "metadata": {
        "id": "tpzQZlaNtQhq"
      },
      "execution_count": null,
      "outputs": []
    },
    {
      "cell_type": "markdown",
      "source": [
        "##Run Experiments "
      ],
      "metadata": {
        "id": "MpkQD_F1SFdI"
      }
    },
    {
      "cell_type": "markdown",
      "source": [
        "**Define parameters of the models**"
      ],
      "metadata": {
        "id": "G-eQkM8hSFmO"
      }
    },
    {
      "cell_type": "code",
      "source": [
        "# time measurement \n",
        "START = time.time()\n",
        "verbose = 1\n",
        "# base string for the save names.\n",
        "base_name = 'run_0'\n",
        "# n_jobs for the parallel running of single core methods\n",
        "n_jobs = 1\n",
        "# number of random states\n",
        "n_states = 1\n",
        "# loop over parameters\n",
        "n_times_atom_list = [128]\n",
        "n_atoms_list = [8]\n",
        "reg_list = [0.3, 1., 3., 10.]\n",
        "\n"
      ],
      "metadata": {
        "id": "Ug0VDImmSG9p"
      },
      "execution_count": null,
      "outputs": []
    },
    {
      "cell_type": "markdown",
      "source": [
        "**Run univariate experiments**"
      ],
      "metadata": {
        "id": "ErX6_pYpShWE"
      }
    },
    {
      "cell_type": "code",
      "source": [
        "n_channel_list = [1]\n",
        "run_exps(n_times_atom_list, n_atoms_list, n_channel_list, reg_list)\n",
        "\n"
      ],
      "metadata": {
        "colab": {
          "base_uri": "https://localhost:8080/"
        },
        "id": "2iL33FpdSV50",
        "outputId": "5ec8c386-91cf-4394-e606-8064770c7c25"
      },
      "execution_count": null,
      "outputs": [
        {
          "output_type": "stream",
          "name": "stdout",
          "text": [
            "\u001b[1;31mn_times_atom, n_atoms, n_channels, reg = (128, 8, 1, 0.3)\u001b[0m\n",
            "\u001b[1;31m---------------------------------------------------------\u001b[0m\n",
            "\u001b[1;34m0 - Garcia-Cardona et al (2017): started at T=3 sec\u001b[0m\n",
            "W_0/1 W_0/200 .................................................W_50/200 .................................................W_100/200 .................................................W_150/200 .................................................\u001b[1;32m0 - Garcia-Cardona et al (2017): done in 259 sec at T=262 sec\u001b[0m\n",
            "\u001b[1;34m0 - Jas et al (2017) FISTA: started at T=262 sec\u001b[0m\n",
            "V_0/1 \n",
            "V_0/100 .................................................V_50/100 .................................................\n",
            "\u001b[1;32m0 - Jas et al (2017) FISTA: done in 228 sec at T=490 sec\u001b[0m\n",
            "\u001b[1;34m0 - Jas et al (2017) LBFGS: started at T=490 sec\u001b[0m\n",
            "V_0/1 \n",
            "V_0/100 .................................................V_50/100 .................................................\n",
            "\u001b[1;32m0 - Jas et al (2017) LBFGS: done in 345 sec at T=835 sec\u001b[0m\n",
            "\u001b[1;34m0 - Proposed (univariate): started at T=835 sec\u001b[0m\n",
            ".[DL] Fit in 8.1s\n",
            ".................................................+\n",
            ".................................................+\n",
            "[DL] Fit in 777.8s\n",
            "\u001b[1;32m0 - Proposed (univariate): done in 786 sec at T=1621 sec\u001b[0m\n",
            "\u001b[1;31mn_times_atom, n_atoms, n_channels, reg = (128, 8, 1, 1.0)\u001b[0m\n",
            "\u001b[1;31m---------------------------------------------------------\u001b[0m\n",
            "\u001b[1;34m0 - Garcia-Cardona et al (2017): started at T=1622 sec\u001b[0m\n",
            "W_0/1 W_0/200 .................................................W_50/200 .................................................W_100/200 .................................................W_150/200 .................................................\u001b[1;32m0 - Garcia-Cardona et al (2017): done in 135 sec at T=1757 sec\u001b[0m\n",
            "\u001b[1;34m0 - Jas et al (2017) FISTA: started at T=1757 sec\u001b[0m\n",
            "V_0/1 \n",
            "V_0/100 .................................................V_50/100 .................................................\n",
            "\u001b[1;32m0 - Jas et al (2017) FISTA: done in 229 sec at T=1986 sec\u001b[0m\n",
            "\u001b[1;34m0 - Jas et al (2017) LBFGS: started at T=1986 sec\u001b[0m\n",
            "V_0/1 \n",
            "V_0/100 .................................................V_50/100 .................................................\n",
            "\u001b[1;32m0 - Jas et al (2017) LBFGS: done in 338 sec at T=2323 sec\u001b[0m\n",
            "\u001b[1;34m0 - Proposed (univariate): started at T=2323 sec\u001b[0m\n",
            ".[DL] Fit in 7.7s\n",
            ".................................................+\n",
            ".................................................+\n",
            "[DL] Fit in 734.9s\n",
            "\u001b[1;32m0 - Proposed (univariate): done in 743 sec at T=3066 sec\u001b[0m\n",
            "\u001b[1;31mn_times_atom, n_atoms, n_channels, reg = (128, 8, 1, 3.0)\u001b[0m\n",
            "\u001b[1;31m---------------------------------------------------------\u001b[0m\n",
            "\u001b[1;34m0 - Garcia-Cardona et al (2017): started at T=3067 sec\u001b[0m\n",
            "W_0/1 W_0/200 .................................................W_50/200 .................................................W_100/200 .................................................W_150/200 .................................................\u001b[1;32m0 - Garcia-Cardona et al (2017): done in 132 sec at T=3198 sec\u001b[0m\n",
            "\u001b[1;34m0 - Jas et al (2017) FISTA: started at T=3198 sec\u001b[0m\n",
            "V_0/1 \n",
            "V_0/100 .................................................V_50/100 .................................................\n",
            "\u001b[1;32m0 - Jas et al (2017) FISTA: done in 230 sec at T=3429 sec\u001b[0m\n",
            "\u001b[1;34m0 - Jas et al (2017) LBFGS: started at T=3429 sec\u001b[0m\n",
            "V_0/1 \n",
            "V_0/100 .................................................V_50/100 .................................................\n",
            "\u001b[1;32m0 - Jas et al (2017) LBFGS: done in 334 sec at T=3763 sec\u001b[0m\n",
            "\u001b[1;34m0 - Proposed (univariate): started at T=3763 sec\u001b[0m\n",
            ".[DL] Fit in 7.7s\n",
            ".................................................+\n",
            ".................................................+\n",
            "[DL] Fit in 706.0s\n",
            "\u001b[1;32m0 - Proposed (univariate): done in 714 sec at T=4476 sec\u001b[0m\n",
            "\u001b[1;31mn_times_atom, n_atoms, n_channels, reg = (128, 8, 1, 10.0)\u001b[0m\n",
            "\u001b[1;31m----------------------------------------------------------\u001b[0m\n",
            "\u001b[1;34m0 - Garcia-Cardona et al (2017): started at T=4477 sec\u001b[0m\n",
            "W_0/1 W_0/200 .................................................W_50/200 .................................................W_100/200 .................................................W_150/200 .................................................\u001b[1;32m0 - Garcia-Cardona et al (2017): done in 132 sec at T=4610 sec\u001b[0m\n",
            "\u001b[1;34m0 - Jas et al (2017) FISTA: started at T=4610 sec\u001b[0m\n",
            "V_0/1 \n",
            "V_0/100 .................................................V_50/100 .................................................\n",
            "\u001b[1;32m0 - Jas et al (2017) FISTA: done in 182 sec at T=4791 sec\u001b[0m\n",
            "\u001b[1;34m0 - Jas et al (2017) LBFGS: started at T=4791 sec\u001b[0m\n",
            "V_0/1 \n",
            "V_0/100 .................................................V_50/100 .................................................\n",
            "\u001b[1;32m0 - Jas et al (2017) LBFGS: done in 299 sec at T=5090 sec\u001b[0m\n",
            "\u001b[1;34m0 - Proposed (univariate): started at T=5090 sec\u001b[0m\n",
            ".[DL] Fit in 7.0s\n",
            ".................................................+\n",
            ".................................................+\n",
            "[DL] Fit in 691.1s\n",
            "\u001b[1;32m0 - Proposed (univariate): done in 698 sec at T=5788 sec\u001b[0m\n",
            "-- End of the script --\n"
          ]
        }
      ]
    },
    {
      "cell_type": "markdown",
      "source": [
        "**Run multivariate experiments**"
      ],
      "metadata": {
        "id": "38RkzrLfSlIb"
      }
    },
    {
      "cell_type": "code",
      "source": [
        "n_channel_list = [5]\n",
        "run_exps(n_times_atom_list, n_atoms_list, n_channel_list, reg_list)\n"
      ],
      "metadata": {
        "colab": {
          "base_uri": "https://localhost:8080/"
        },
        "id": "oqBo_FlwzVRK",
        "outputId": "cbc73362-2478-4a0b-9379-19849e333c9c"
      },
      "execution_count": null,
      "outputs": [
        {
          "output_type": "stream",
          "name": "stdout",
          "text": [
            "\u001b[1;31mn_times_atom, n_atoms, n_channels, reg = (128, 8, 5, 0.3)\u001b[0m\n",
            "\u001b[1;31m---------------------------------------------------------\u001b[0m\n",
            "\u001b[1;34m0 - Wohlberg (2016): started at T=8 sec\u001b[0m\n",
            "W_0/1 W_0/40 .......................................\u001b[1;32m0 - Wohlberg (2016): done in 83 sec at T=91 sec\u001b[0m\n",
            "\u001b[1;34m0 - Proposed (multivariate): started at T=91 sec\u001b[0m\n",
            ".[DL] Fit in 8.6s\n",
            "....................[DL] Fit in 176.0s\n",
            "\u001b[1;32m0 - Proposed (multivariate): done in 185 sec at T=276 sec\u001b[0m\n",
            "\u001b[1;34m0 - Proposed (multichannel): started at T=276 sec\u001b[0m\n",
            ".[DL] Fit in 9.0s\n",
            "....................[DL] Fit in 158.1s\n",
            "\u001b[1;32m0 - Proposed (multichannel): done in 167 sec at T=443 sec\u001b[0m\n",
            "\u001b[1;31mn_times_atom, n_atoms, n_channels, reg = (128, 8, 5, 1.0)\u001b[0m\n",
            "\u001b[1;31m---------------------------------------------------------\u001b[0m\n",
            "\u001b[1;34m0 - Wohlberg (2016): started at T=443 sec\u001b[0m\n",
            "W_0/1 W_0/40 .......................................\u001b[1;32m0 - Wohlberg (2016): done in 83 sec at T=526 sec\u001b[0m\n",
            "\u001b[1;34m0 - Proposed (multivariate): started at T=526 sec\u001b[0m\n",
            ".[DL] Fit in 8.6s\n",
            "....................[DL] Fit in 164.1s\n",
            "\u001b[1;32m0 - Proposed (multivariate): done in 173 sec at T=699 sec\u001b[0m\n",
            "\u001b[1;34m0 - Proposed (multichannel): started at T=699 sec\u001b[0m\n",
            ".[DL] Fit in 8.9s\n",
            "....................[DL] Fit in 157.1s\n",
            "\u001b[1;32m0 - Proposed (multichannel): done in 166 sec at T=865 sec\u001b[0m\n",
            "\u001b[1;31mn_times_atom, n_atoms, n_channels, reg = (128, 8, 5, 3.0)\u001b[0m\n",
            "\u001b[1;31m---------------------------------------------------------\u001b[0m\n",
            "\u001b[1;34m0 - Wohlberg (2016): started at T=866 sec\u001b[0m\n",
            "W_0/1 W_0/40 .......................................\u001b[1;32m0 - Wohlberg (2016): done in 83 sec at T=949 sec\u001b[0m\n",
            "\u001b[1;34m0 - Proposed (multivariate): started at T=949 sec\u001b[0m\n",
            ".[DL] Fit in 7.5s\n",
            "....................[DL] Fit in 153.6s\n",
            "\u001b[1;32m0 - Proposed (multivariate): done in 161 sec at T=1110 sec\u001b[0m\n",
            "\u001b[1;34m0 - Proposed (multichannel): started at T=1110 sec\u001b[0m\n",
            ".[DL] Fit in 8.9s\n",
            "....................[DL] Fit in 154.3s\n",
            "\u001b[1;32m0 - Proposed (multichannel): done in 163 sec at T=1273 sec\u001b[0m\n",
            "\u001b[1;31mn_times_atom, n_atoms, n_channels, reg = (128, 8, 5, 10.0)\u001b[0m\n",
            "\u001b[1;31m----------------------------------------------------------\u001b[0m\n",
            "\u001b[1;34m0 - Wohlberg (2016): started at T=1274 sec\u001b[0m\n",
            "W_0/1 W_0/40 .......................................\u001b[1;32m0 - Wohlberg (2016): done in 82 sec at T=1356 sec\u001b[0m\n",
            "\u001b[1;34m0 - Proposed (multivariate): started at T=1356 sec\u001b[0m\n",
            ".[DL] Fit in 7.4s\n",
            "....................[DL] Fit in 147.2s\n",
            "\u001b[1;32m0 - Proposed (multivariate): done in 155 sec at T=1510 sec\u001b[0m\n",
            "\u001b[1;34m0 - Proposed (multichannel): started at T=1510 sec\u001b[0m\n",
            ".[DL] Fit in 8.2s\n",
            "....................[DL] Fit in 149.3s\n",
            "\u001b[1;32m0 - Proposed (multichannel): done in 158 sec at T=1668 sec\u001b[0m\n",
            "-- End of the script --\n"
          ]
        }
      ]
    },
    {
      "cell_type": "markdown",
      "source": [
        "**Plots**"
      ],
      "metadata": {
        "id": "xMet9xEkrqJt"
      }
    },
    {
      "cell_type": "code",
      "source": [
        "matplotlib.rc('font', size=18)\n",
        "matplotlib.rc('mathtext', fontset='cm')"
      ],
      "metadata": {
        "id": "-UlXtM1wrwWj"
      },
      "execution_count": null,
      "outputs": []
    },
    {
      "cell_type": "code",
      "source": [
        "all_results_df = None\n",
        "for load_name in os.listdir('figures'):\n",
        "    load_name = os.path.join('figures', load_name)\n",
        "    if (load_name[-4:] == '.pkl' and\n",
        "              ('run' in load_name or 'debug' in load_name)):\n",
        "        print(\"load %s\" % load_name)\n",
        "        data_frame = pd.read_pickle(load_name)\n",
        "    else:\n",
        "          continue\n",
        "\n",
        "    if all_results_df is not None:\n",
        "          all_results_df = pd.concat([all_results_df, data_frame],\n",
        "                                       ignore_index=True)\n",
        "    else:\n",
        "          all_results_df = data_frame\n",
        "\n",
        "        # plot the results of each setting\n",
        "    plot_convergence(data_frame, threshold=1e-2, normalize_method='last',\n",
        "                         save_name=load_name[:-4])\n",
        "    plt.close('all')\n",
        "\n",
        "    # plot the aggregation of all results\n",
        "plot_barplot(all_results_df, threshold=1e-2, normalize_method='last',\n",
        "                 save_name=os.path.join('figures', 'all'))\n",
        "#didn't add all the plots here but when you run the code, you can get a folder called figures that has all the plots\n"
      ],
      "metadata": {
        "colab": {
          "base_uri": "https://localhost:8080/",
          "height": 706
        },
        "id": "NxCcbpierowL",
        "outputId": "885e62e9-1525-4e21-a82b-909dda19507e"
      },
      "execution_count": null,
      "outputs": [
        {
          "output_type": "stream",
          "name": "stdout",
          "text": [
            "load figures/run_0(128, 8, 1, 1.0).pkl\n",
            "load figures/run_0(128, 8, 5, 0.3).pkl\n",
            "load figures/run_0(128, 8, 1, 10.0).pkl\n",
            "load figures/run_0(128, 8, 5, 1.0).pkl\n",
            "load figures/run_0(128, 8, 5, 3.0).pkl\n",
            "load figures/run_0(128, 8, 1, 0.3).pkl\n",
            "load figures/run_0(128, 8, 1, 3.0).pkl\n",
            "load figures/run_0(128, 8, 5, 10.0).pkl\n"
          ]
        },
        {
          "output_type": "display_data",
          "data": {
            "text/plain": [
              "<Figure size 792x288 with 1 Axes>"
            ],
            "image/png": "[encoded data removed]"
          },
          "metadata": {
            "needs_background": "light"
          }
        },
        {
          "output_type": "display_data",
          "data": {
            "text/plain": [
              "<Figure size 792x288 with 1 Axes>"
            ],
            "image/png": "[encoded data removed]"
          },
          "metadata": {
            "needs_background": "light"
          }
        }
      ]
    }
  ],
  "metadata": {
    "accelerator": "GPU",
    "colab": {
      "collapsed_sections": [],
      "name": "comparison_of_CSC_solvers.ipynb",
      "provenance": [],
      "toc_visible": true
    },
    "kernelspec": {
      "display_name": "Python 3 (ipykernel)",
      "language": "python",
      "name": "python3"
    },
    "language_info": {
      "codemirror_mode": {
        "name": "ipython",
        "version": 3
      },
      "file_extension": ".py",
      "mimetype": "text/x-python",
      "name": "python",
      "nbconvert_exporter": "python",
      "pygments_lexer": "ipython3",
      "version": "3.9.7"
    }
  },
  "nbformat": 4,
  "nbformat_minor": 0
}
